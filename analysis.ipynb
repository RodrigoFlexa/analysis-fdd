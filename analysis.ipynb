{
 "cells": [
  {
   "cell_type": "code",
   "execution_count": 98,
   "id": "647eb67c",
   "metadata": {},
   "outputs": [],
   "source": [
    "import pandas as pd\n",
    "import json\n",
    "import glob\n",
    "import os\n",
    "from pandas.io.json import json_normalize\n",
    "import matplotlib.pyplot as plt\n",
    "import numpy as np\n",
    "import seaborn as sns\n",
    "import warnings\n",
    "import math\n",
    "from sklearn.preprocessing import LabelEncoder, OneHotEncoder\n",
    "warnings.filterwarnings('ignore')\n",
    "warnings.simplefilter('ignore')"
   ]
  },
  {
   "cell_type": "markdown",
   "id": "d4e7250e",
   "metadata": {},
   "source": [
    "## Lendo, previamente, apenas uma sample de um usuário"
   ]
  },
  {
   "cell_type": "code",
   "execution_count": 2,
   "id": "7766badc",
   "metadata": {
    "scrolled": true
   },
   "outputs": [],
   "source": [
    "path_arquivos = 'sensors/'\n",
    "teste_u1 = pd.json_normalize(json.load(open(path_arquivos+ '00qhiaz_1542975441749.json')))"
   ]
  },
  {
   "cell_type": "code",
   "execution_count": 3,
   "id": "b572858f",
   "metadata": {},
   "outputs": [
    {
     "data": {
      "text/html": [
       "<div>\n",
       "<style scoped>\n",
       "    .dataframe tbody tr th:only-of-type {\n",
       "        vertical-align: middle;\n",
       "    }\n",
       "\n",
       "    .dataframe tbody tr th {\n",
       "        vertical-align: top;\n",
       "    }\n",
       "\n",
       "    .dataframe thead th {\n",
       "        text-align: right;\n",
       "    }\n",
       "</style>\n",
       "<table border=\"1\" class=\"dataframe\">\n",
       "  <thead>\n",
       "    <tr style=\"text-align: right;\">\n",
       "      <th></th>\n",
       "      <th>player_id</th>\n",
       "      <th>accelerometer</th>\n",
       "      <th>gyroscope</th>\n",
       "      <th>deviceMotion</th>\n",
       "      <th>magnetometer</th>\n",
       "    </tr>\n",
       "  </thead>\n",
       "  <tbody>\n",
       "    <tr>\n",
       "      <th>0</th>\n",
       "      <td>00qhiaz</td>\n",
       "      <td>[{'z': 0.5986328125, 'y': 0.822265625, 'x': 0....</td>\n",
       "      <td>[]</td>\n",
       "      <td>[{'accelerationIncludingGravity': {'z': -5.451...</td>\n",
       "      <td>[{'z': -41.75, 'y': -38.3125, 'x': -14.8125, '...</td>\n",
       "    </tr>\n",
       "  </tbody>\n",
       "</table>\n",
       "</div>"
      ],
      "text/plain": [
       "  player_id                                      accelerometer gyroscope  \\\n",
       "0   00qhiaz  [{'z': 0.5986328125, 'y': 0.822265625, 'x': 0....        []   \n",
       "\n",
       "                                        deviceMotion  \\\n",
       "0  [{'accelerationIncludingGravity': {'z': -5.451...   \n",
       "\n",
       "                                        magnetometer  \n",
       "0  [{'z': -41.75, 'y': -38.3125, 'x': -14.8125, '...  "
      ]
     },
     "execution_count": 3,
     "metadata": {},
     "output_type": "execute_result"
    }
   ],
   "source": [
    "teste_u1"
   ]
  },
  {
   "cell_type": "markdown",
   "id": "387089b3",
   "metadata": {},
   "source": [
    "O dataset possui: \n",
    "-ID\n",
    "-accelerometer\n",
    "-gyroscope\n",
    "-magnetometer\n",
    "-deviceMotion"
   ]
  },
  {
   "cell_type": "code",
   "execution_count": 4,
   "id": "0ca5fcc5",
   "metadata": {},
   "outputs": [],
   "source": [
    "df1_u1 = pd.DataFrame(teste_u1['accelerometer'][0])"
   ]
  },
  {
   "cell_type": "code",
   "execution_count": 5,
   "id": "8298ca82",
   "metadata": {},
   "outputs": [
    {
     "data": {
      "text/html": [
       "<div>\n",
       "<style scoped>\n",
       "    .dataframe tbody tr th:only-of-type {\n",
       "        vertical-align: middle;\n",
       "    }\n",
       "\n",
       "    .dataframe tbody tr th {\n",
       "        vertical-align: top;\n",
       "    }\n",
       "\n",
       "    .dataframe thead th {\n",
       "        text-align: right;\n",
       "    }\n",
       "</style>\n",
       "<table border=\"1\" class=\"dataframe\">\n",
       "  <thead>\n",
       "    <tr style=\"text-align: right;\">\n",
       "      <th></th>\n",
       "      <th>z</th>\n",
       "      <th>y</th>\n",
       "      <th>x</th>\n",
       "      <th>screen</th>\n",
       "    </tr>\n",
       "  </thead>\n",
       "  <tbody>\n",
       "    <tr>\n",
       "      <th>0</th>\n",
       "      <td>0.598633</td>\n",
       "      <td>0.822266</td>\n",
       "      <td>0.037109</td>\n",
       "      <td>RegisterScreen</td>\n",
       "    </tr>\n",
       "    <tr>\n",
       "      <th>1</th>\n",
       "      <td>0.576172</td>\n",
       "      <td>0.825195</td>\n",
       "      <td>0.039062</td>\n",
       "      <td>RegisterScreen</td>\n",
       "    </tr>\n",
       "    <tr>\n",
       "      <th>2</th>\n",
       "      <td>0.584961</td>\n",
       "      <td>0.826172</td>\n",
       "      <td>0.024414</td>\n",
       "      <td>RegisterScreen</td>\n",
       "    </tr>\n",
       "    <tr>\n",
       "      <th>3</th>\n",
       "      <td>0.592773</td>\n",
       "      <td>0.821289</td>\n",
       "      <td>0.030273</td>\n",
       "      <td>RegisterScreen</td>\n",
       "    </tr>\n",
       "    <tr>\n",
       "      <th>4</th>\n",
       "      <td>0.571289</td>\n",
       "      <td>0.816406</td>\n",
       "      <td>0.029297</td>\n",
       "      <td>RegisterScreen</td>\n",
       "    </tr>\n",
       "  </tbody>\n",
       "</table>\n",
       "</div>"
      ],
      "text/plain": [
       "          z         y         x          screen\n",
       "0  0.598633  0.822266  0.037109  RegisterScreen\n",
       "1  0.576172  0.825195  0.039062  RegisterScreen\n",
       "2  0.584961  0.826172  0.024414  RegisterScreen\n",
       "3  0.592773  0.821289  0.030273  RegisterScreen\n",
       "4  0.571289  0.816406  0.029297  RegisterScreen"
      ]
     },
     "execution_count": 5,
     "metadata": {},
     "output_type": "execute_result"
    }
   ],
   "source": [
    "df1_u1.head()"
   ]
  },
  {
   "cell_type": "code",
   "execution_count": 6,
   "id": "e8c0d7f7",
   "metadata": {},
   "outputs": [
    {
     "data": {
      "text/html": [
       "<div>\n",
       "<style scoped>\n",
       "    .dataframe tbody tr th:only-of-type {\n",
       "        vertical-align: middle;\n",
       "    }\n",
       "\n",
       "    .dataframe tbody tr th {\n",
       "        vertical-align: top;\n",
       "    }\n",
       "\n",
       "    .dataframe thead th {\n",
       "        text-align: right;\n",
       "    }\n",
       "</style>\n",
       "<table border=\"1\" class=\"dataframe\">\n",
       "  <thead>\n",
       "    <tr style=\"text-align: right;\">\n",
       "      <th></th>\n",
       "    </tr>\n",
       "  </thead>\n",
       "  <tbody>\n",
       "  </tbody>\n",
       "</table>\n",
       "</div>"
      ],
      "text/plain": [
       "Empty DataFrame\n",
       "Columns: []\n",
       "Index: []"
      ]
     },
     "execution_count": 6,
     "metadata": {},
     "output_type": "execute_result"
    }
   ],
   "source": [
    "df2_u1 = pd.DataFrame(teste_u1['gyroscope'][0])\n",
    "df2_u1.head()"
   ]
  },
  {
   "cell_type": "code",
   "execution_count": 7,
   "id": "e3dc99f5",
   "metadata": {},
   "outputs": [
    {
     "data": {
      "text/plain": [
       "191"
      ]
     },
     "execution_count": 7,
     "metadata": {},
     "output_type": "execute_result"
    }
   ],
   "source": [
    "df3_u1 = pd.DataFrame(teste_u1['deviceMotion'][0])\n",
    "df3_u1.head()\n",
    "df3_u1.shape[0]"
   ]
  },
  {
   "cell_type": "code",
   "execution_count": 8,
   "id": "d2cf837e",
   "metadata": {},
   "outputs": [
    {
     "data": {
      "text/html": [
       "<div>\n",
       "<style scoped>\n",
       "    .dataframe tbody tr th:only-of-type {\n",
       "        vertical-align: middle;\n",
       "    }\n",
       "\n",
       "    .dataframe tbody tr th {\n",
       "        vertical-align: top;\n",
       "    }\n",
       "\n",
       "    .dataframe thead th {\n",
       "        text-align: right;\n",
       "    }\n",
       "</style>\n",
       "<table border=\"1\" class=\"dataframe\">\n",
       "  <thead>\n",
       "    <tr style=\"text-align: right;\">\n",
       "      <th></th>\n",
       "      <th>z</th>\n",
       "      <th>y</th>\n",
       "      <th>x</th>\n",
       "      <th>screen</th>\n",
       "    </tr>\n",
       "  </thead>\n",
       "  <tbody>\n",
       "    <tr>\n",
       "      <th>0</th>\n",
       "      <td>-41.7500</td>\n",
       "      <td>-38.3125</td>\n",
       "      <td>-14.8125</td>\n",
       "      <td>RegisterScreen</td>\n",
       "    </tr>\n",
       "    <tr>\n",
       "      <th>1</th>\n",
       "      <td>-41.5625</td>\n",
       "      <td>-38.5625</td>\n",
       "      <td>-14.8750</td>\n",
       "      <td>RegisterScreen</td>\n",
       "    </tr>\n",
       "    <tr>\n",
       "      <th>2</th>\n",
       "      <td>-41.5000</td>\n",
       "      <td>-40.0000</td>\n",
       "      <td>-15.5625</td>\n",
       "      <td>RegisterScreen</td>\n",
       "    </tr>\n",
       "    <tr>\n",
       "      <th>3</th>\n",
       "      <td>-42.2500</td>\n",
       "      <td>-36.8750</td>\n",
       "      <td>-14.5000</td>\n",
       "      <td>RegisterScreen</td>\n",
       "    </tr>\n",
       "    <tr>\n",
       "      <th>4</th>\n",
       "      <td>-41.4375</td>\n",
       "      <td>-37.4375</td>\n",
       "      <td>-14.5000</td>\n",
       "      <td>RegisterScreen</td>\n",
       "    </tr>\n",
       "  </tbody>\n",
       "</table>\n",
       "</div>"
      ],
      "text/plain": [
       "         z        y        x          screen\n",
       "0 -41.7500 -38.3125 -14.8125  RegisterScreen\n",
       "1 -41.5625 -38.5625 -14.8750  RegisterScreen\n",
       "2 -41.5000 -40.0000 -15.5625  RegisterScreen\n",
       "3 -42.2500 -36.8750 -14.5000  RegisterScreen\n",
       "4 -41.4375 -37.4375 -14.5000  RegisterScreen"
      ]
     },
     "execution_count": 8,
     "metadata": {},
     "output_type": "execute_result"
    }
   ],
   "source": [
    "df4_u1 = pd.DataFrame(teste_u1['magnetometer'][0])\n",
    "df4_u1.head()"
   ]
  },
  {
   "cell_type": "code",
   "execution_count": 9,
   "id": "30ad055d",
   "metadata": {},
   "outputs": [],
   "source": [
    "#funções que serão utilizadas mais pra frente\n",
    "\n",
    "#função para ler um arquivo\n",
    "def read_file(nome_arquivo,metrica):\n",
    "    teste_u10 = pd.json_normalize(json.load(open(path_arquivos + nome_arquivo)))\n",
    "    df1_u10 = pd.DataFrame(teste_u10[str(metrica)][0])\n",
    "\n",
    "    if(df1_u10.empty):\n",
    "        return 0\n",
    "    else:\n",
    "        return df1_u10[['x','y','z']]\n",
    "\n",
    "#função para ler a quantidade de gyroscopes num arquivo\n",
    "def read_fileq(nome_arquivo,metrica):\n",
    "    \n",
    "    teste_u120 = pd.json_normalize(json.load(open(path_arquivos + nome_arquivo)))\n",
    "    df1_u120 = pd.DataFrame(teste_u120[str(metrica)][0])\n",
    "\n",
    "    if(df1_u120.empty):\n",
    "        return 0\n",
    "    else:\n",
    "        return df1_u120.shape[0]\n",
    "    \n",
    "#função para coletar o quanto de gyroscopes eu quero pra cima \n",
    "def colect_stemps(quantidade,metrica):\n",
    "    dic = {'user': [], 'quantity': []}\n",
    "    df = pd.DataFrame(dic)\n",
    "\n",
    "    for i in lista_arquivo:\n",
    "        qtd = read_fileq(i,metrica)\n",
    "        if (qtd >= quantidade):\n",
    "            df.loc[len(df.index)] = [i,qtd]\n",
    "    return df"
   ]
  },
  {
   "cell_type": "markdown",
   "id": "32eaafa7",
   "metadata": {},
   "source": [
    "## Analisando a quantidade de usuários e quantas vezes se repetem"
   ]
  },
  {
   "cell_type": "code",
   "execution_count": 10,
   "id": "9967e330",
   "metadata": {},
   "outputs": [],
   "source": [
    "lista = []\n",
    "lista_arquivo = os.listdir('sensors/')\n",
    "for file in lista_arquivo:\n",
    "    lista.append(file.split(\"_\")[0])\n",
    "arquivos = pd.DataFrame(lista)"
   ]
  },
  {
   "cell_type": "code",
   "execution_count": 11,
   "id": "bd1c0682",
   "metadata": {
    "scrolled": true
   },
   "outputs": [
    {
     "data": {
      "text/plain": [
       "9gykp6g    7904\n",
       "flidyt     6595\n",
       "uzip5ke    5229\n",
       "frl4fzq    2870\n",
       "d5deark    2218\n",
       "           ... \n",
       "plfzjjx       1\n",
       "d4ydsnq       1\n",
       "d52s5qy       1\n",
       "dici8pg       1\n",
       "zyt437w       1\n",
       "Length: 1132, dtype: int64"
      ]
     },
     "execution_count": 11,
     "metadata": {},
     "output_type": "execute_result"
    }
   ],
   "source": [
    "arquivos.value_counts()"
   ]
  },
  {
   "cell_type": "markdown",
   "id": "9c990d57",
   "metadata": {},
   "source": [
    "São 1132 usuários e tem alguns que não se repetem e outros que se repetem muito"
   ]
  },
  {
   "cell_type": "code",
   "execution_count": 12,
   "id": "367f9c62",
   "metadata": {},
   "outputs": [],
   "source": [
    "h = pd.DataFrame(arquivos.value_counts())\n",
    "h.columns = ['repeticao']"
   ]
  },
  {
   "cell_type": "code",
   "execution_count": 13,
   "id": "09c7c2a2",
   "metadata": {},
   "outputs": [],
   "source": [
    "b = h\n",
    "b = b.reset_index()\n",
    "b.sort_index(inplace=True)\n",
    "b_shuffled = b.sample(frac=1).reset_index(drop=True)"
   ]
  },
  {
   "cell_type": "code",
   "execution_count": 14,
   "id": "e19ab403",
   "metadata": {},
   "outputs": [
    {
     "data": {
      "image/png": "[encoded data removed]",
      "text/plain": [
       "<Figure size 1000x500 with 1 Axes>"
      ]
     },
     "metadata": {},
     "output_type": "display_data"
    }
   ],
   "source": [
    "  plt.figure(figsize=(10,5))\n",
    "  plt.plot(range(len(b_shuffled)),b_shuffled['repeticao'],'bo',ms=3)\n",
    "  plt.xlim(0, 1132)\n",
    "  plt.ylim(0, 8000)\n",
    "  plt.xlabel(\"users\",fontsize = 12)\n",
    "  plt.ylabel(\"quantity\",fontsize = 12)\n",
    "  plt.xticks(fontsize = 12)\n",
    "  plt.yticks(fontsize = 12)\n",
    "  plt.show()"
   ]
  },
  {
   "cell_type": "markdown",
   "id": "7d9495e0",
   "metadata": {},
   "source": [
    "## Analisando para timestemps = 1"
   ]
  },
  {
   "cell_type": "code",
   "execution_count": 15,
   "id": "2756d5cb",
   "metadata": {},
   "outputs": [],
   "source": [
    "timestemp1 = h[h['repeticao']<2]"
   ]
  },
  {
   "cell_type": "code",
   "execution_count": 16,
   "id": "58444e86",
   "metadata": {},
   "outputs": [],
   "source": [
    "#ajeitando o index\n",
    "timestemp1.reset_index(inplace = True)\n",
    "timestemp1.columns = ['user_id','repeticao']\n",
    "lista_users_name = timestemp1['user_id'].tolist()\n",
    "timestemp1 = pd.concat([timestemp1,pd.DataFrame(lista_users_name)], axis = 1)\n",
    "timestemp1.columns = ['user_id','repeticao','id_timestemp']"
   ]
  },
  {
   "cell_type": "code",
   "execution_count": 17,
   "id": "5d359995",
   "metadata": {},
   "outputs": [],
   "source": [
    "#tamanho das samples dessas timestemps com tamanho 1\n",
    "leitura_samples_id = []\n",
    "for file in lista_arquivo:\n",
    "    if(file.split(\"_\")[0] in lista_users_name):\n",
    "        nova_linha = timestemp1[timestemp1['user_id'] == file.split(\"_\")[0]]\n",
    "        nova_linha.iloc[0,2] = file.split(\"_\")[1].split(\".\")[0]\n",
    "        timestemp1[timestemp1['user_id'] == file.split(\"_\")[0]] = nova_linha"
   ]
  },
  {
   "cell_type": "code",
   "execution_count": 18,
   "id": "15e58441",
   "metadata": {},
   "outputs": [
    {
     "data": {
      "text/html": [
       "<div>\n",
       "<style scoped>\n",
       "    .dataframe tbody tr th:only-of-type {\n",
       "        vertical-align: middle;\n",
       "    }\n",
       "\n",
       "    .dataframe tbody tr th {\n",
       "        vertical-align: top;\n",
       "    }\n",
       "\n",
       "    .dataframe thead th {\n",
       "        text-align: right;\n",
       "    }\n",
       "</style>\n",
       "<table border=\"1\" class=\"dataframe\">\n",
       "  <thead>\n",
       "    <tr style=\"text-align: right;\">\n",
       "      <th></th>\n",
       "      <th>user_id</th>\n",
       "      <th>repeticao</th>\n",
       "      <th>id_timestemp</th>\n",
       "    </tr>\n",
       "  </thead>\n",
       "  <tbody>\n",
       "    <tr>\n",
       "      <th>0</th>\n",
       "      <td>zcmg3s9</td>\n",
       "      <td>1</td>\n",
       "      <td>1543315653076</td>\n",
       "    </tr>\n",
       "    <tr>\n",
       "      <th>1</th>\n",
       "      <td>0dhpckv</td>\n",
       "      <td>1</td>\n",
       "      <td>1538916098382</td>\n",
       "    </tr>\n",
       "    <tr>\n",
       "      <th>2</th>\n",
       "      <td>1dip0jt</td>\n",
       "      <td>1</td>\n",
       "      <td>1540359594938</td>\n",
       "    </tr>\n",
       "    <tr>\n",
       "      <th>3</th>\n",
       "      <td>yv6n8gx</td>\n",
       "      <td>1</td>\n",
       "      <td>1543260874208</td>\n",
       "    </tr>\n",
       "    <tr>\n",
       "      <th>4</th>\n",
       "      <td>0f4uezb</td>\n",
       "      <td>1</td>\n",
       "      <td>1541637607517</td>\n",
       "    </tr>\n",
       "    <tr>\n",
       "      <th>5</th>\n",
       "      <td>0yx7i56</td>\n",
       "      <td>1</td>\n",
       "      <td>1549297833161</td>\n",
       "    </tr>\n",
       "    <tr>\n",
       "      <th>6</th>\n",
       "      <td>1tnew6a</td>\n",
       "      <td>1</td>\n",
       "      <td>1537303821892</td>\n",
       "    </tr>\n",
       "    <tr>\n",
       "      <th>7</th>\n",
       "      <td>b4dnqru</td>\n",
       "      <td>1</td>\n",
       "      <td>1540328375910</td>\n",
       "    </tr>\n",
       "    <tr>\n",
       "      <th>8</th>\n",
       "      <td>ylocu2a</td>\n",
       "      <td>1</td>\n",
       "      <td>1542982220706</td>\n",
       "    </tr>\n",
       "    <tr>\n",
       "      <th>9</th>\n",
       "      <td>2vv6lsy</td>\n",
       "      <td>1</td>\n",
       "      <td>1537280892505</td>\n",
       "    </tr>\n",
       "  </tbody>\n",
       "</table>\n",
       "</div>"
      ],
      "text/plain": [
       "   user_id  repeticao   id_timestemp\n",
       "0  zcmg3s9          1  1543315653076\n",
       "1  0dhpckv          1  1538916098382\n",
       "2  1dip0jt          1  1540359594938\n",
       "3  yv6n8gx          1  1543260874208\n",
       "4  0f4uezb          1  1541637607517\n",
       "5  0yx7i56          1  1549297833161\n",
       "6  1tnew6a          1  1537303821892\n",
       "7  b4dnqru          1  1540328375910\n",
       "8  ylocu2a          1  1542982220706\n",
       "9  2vv6lsy          1  1537280892505"
      ]
     },
     "execution_count": 18,
     "metadata": {},
     "output_type": "execute_result"
    }
   ],
   "source": [
    "#visualização\n",
    "timestemp1.head(10)"
   ]
  },
  {
   "cell_type": "code",
   "execution_count": 19,
   "id": "a8def228",
   "metadata": {},
   "outputs": [],
   "source": [
    "timestemp1 = pd.concat([timestemp1,pd.DataFrame(lista_users_name),pd.DataFrame(lista_users_name)], axis = 1)"
   ]
  },
  {
   "cell_type": "code",
   "execution_count": 20,
   "id": "acbbda81",
   "metadata": {},
   "outputs": [],
   "source": [
    "timestemp1.columns=['user_id','repeticao','id_timestemp','gyroscope_quantity','accelerometer_quantity']\n",
    "timestemp1.index = timestemp1['user_id']\n",
    "timestemp1.drop(columns=['user_id'],inplace=True)"
   ]
  },
  {
   "cell_type": "code",
   "execution_count": 21,
   "id": "841e790c",
   "metadata": {},
   "outputs": [],
   "source": [
    "for file in lista_arquivo:\n",
    "    if(file.split(\"_\")[0] in lista_users_name):\n",
    "        timestemp1.loc[file.split(\"_\")[0],'gyroscope_quantity'] = read_fileq(file,'gyroscope')\n",
    "        timestemp1.loc[file.split(\"_\")[0],'accelerometer_quantity'] = read_fileq(file,'accelerometer')"
   ]
  },
  {
   "cell_type": "code",
   "execution_count": 22,
   "id": "2148797e",
   "metadata": {
    "scrolled": true
   },
   "outputs": [
    {
     "data": {
      "text/html": [
       "<div>\n",
       "<style scoped>\n",
       "    .dataframe tbody tr th:only-of-type {\n",
       "        vertical-align: middle;\n",
       "    }\n",
       "\n",
       "    .dataframe tbody tr th {\n",
       "        vertical-align: top;\n",
       "    }\n",
       "\n",
       "    .dataframe thead th {\n",
       "        text-align: right;\n",
       "    }\n",
       "</style>\n",
       "<table border=\"1\" class=\"dataframe\">\n",
       "  <thead>\n",
       "    <tr style=\"text-align: right;\">\n",
       "      <th></th>\n",
       "      <th>repeticao</th>\n",
       "      <th>id_timestemp</th>\n",
       "      <th>gyroscope_quantity</th>\n",
       "      <th>accelerometer_quantity</th>\n",
       "    </tr>\n",
       "    <tr>\n",
       "      <th>user_id</th>\n",
       "      <th></th>\n",
       "      <th></th>\n",
       "      <th></th>\n",
       "      <th></th>\n",
       "    </tr>\n",
       "  </thead>\n",
       "  <tbody>\n",
       "    <tr>\n",
       "      <th>zcmg3s9</th>\n",
       "      <td>1</td>\n",
       "      <td>1543315653076</td>\n",
       "      <td>0</td>\n",
       "      <td>195</td>\n",
       "    </tr>\n",
       "    <tr>\n",
       "      <th>0dhpckv</th>\n",
       "      <td>1</td>\n",
       "      <td>1538916098382</td>\n",
       "      <td>598</td>\n",
       "      <td>199</td>\n",
       "    </tr>\n",
       "    <tr>\n",
       "      <th>1dip0jt</th>\n",
       "      <td>1</td>\n",
       "      <td>1540359594938</td>\n",
       "      <td>0</td>\n",
       "      <td>197</td>\n",
       "    </tr>\n",
       "    <tr>\n",
       "      <th>yv6n8gx</th>\n",
       "      <td>1</td>\n",
       "      <td>1543260874208</td>\n",
       "      <td>197</td>\n",
       "      <td>197</td>\n",
       "    </tr>\n",
       "    <tr>\n",
       "      <th>0f4uezb</th>\n",
       "      <td>1</td>\n",
       "      <td>1541637607517</td>\n",
       "      <td>600</td>\n",
       "      <td>5997</td>\n",
       "    </tr>\n",
       "    <tr>\n",
       "      <th>0yx7i56</th>\n",
       "      <td>1</td>\n",
       "      <td>1549297833161</td>\n",
       "      <td>0</td>\n",
       "      <td>68</td>\n",
       "    </tr>\n",
       "    <tr>\n",
       "      <th>1tnew6a</th>\n",
       "      <td>1</td>\n",
       "      <td>1537303821892</td>\n",
       "      <td>590</td>\n",
       "      <td>554</td>\n",
       "    </tr>\n",
       "    <tr>\n",
       "      <th>b4dnqru</th>\n",
       "      <td>1</td>\n",
       "      <td>1540328375910</td>\n",
       "      <td>183</td>\n",
       "      <td>183</td>\n",
       "    </tr>\n",
       "    <tr>\n",
       "      <th>ylocu2a</th>\n",
       "      <td>1</td>\n",
       "      <td>1542982220706</td>\n",
       "      <td>141</td>\n",
       "      <td>141</td>\n",
       "    </tr>\n",
       "    <tr>\n",
       "      <th>2vv6lsy</th>\n",
       "      <td>1</td>\n",
       "      <td>1537280892505</td>\n",
       "      <td>0</td>\n",
       "      <td>170</td>\n",
       "    </tr>\n",
       "  </tbody>\n",
       "</table>\n",
       "</div>"
      ],
      "text/plain": [
       "         repeticao   id_timestemp gyroscope_quantity accelerometer_quantity\n",
       "user_id                                                                    \n",
       "zcmg3s9          1  1543315653076                  0                    195\n",
       "0dhpckv          1  1538916098382                598                    199\n",
       "1dip0jt          1  1540359594938                  0                    197\n",
       "yv6n8gx          1  1543260874208                197                    197\n",
       "0f4uezb          1  1541637607517                600                   5997\n",
       "0yx7i56          1  1549297833161                  0                     68\n",
       "1tnew6a          1  1537303821892                590                    554\n",
       "b4dnqru          1  1540328375910                183                    183\n",
       "ylocu2a          1  1542982220706                141                    141\n",
       "2vv6lsy          1  1537280892505                  0                    170"
      ]
     },
     "execution_count": 22,
     "metadata": {},
     "output_type": "execute_result"
    }
   ],
   "source": [
    "timestemp1.head(10)"
   ]
  },
  {
   "cell_type": "markdown",
   "id": "804376f1",
   "metadata": {},
   "source": [
    "# Coletando timestemps com 590 gyroscopes pra cima"
   ]
  },
  {
   "cell_type": "code",
   "execution_count": 23,
   "id": "080849da",
   "metadata": {},
   "outputs": [
    {
     "data": {
      "text/plain": [
       "598"
      ]
     },
     "execution_count": 23,
     "metadata": {},
     "output_type": "execute_result"
    }
   ],
   "source": [
    "read_fileq('0dhpckv_1538916098382.json','gyroscope')"
   ]
  },
  {
   "cell_type": "code",
   "execution_count": 24,
   "id": "ac853b02",
   "metadata": {},
   "outputs": [],
   "source": [
    "#df_590 = colect_stemps(590,'gyroscopes')\n",
    "#df_590"
   ]
  },
  {
   "cell_type": "code",
   "execution_count": 25,
   "id": "d2d410c8",
   "metadata": {},
   "outputs": [],
   "source": [
    "#df_590.to_csv('gyroscope_590.csv', index=False)"
   ]
  },
  {
   "cell_type": "code",
   "execution_count": 26,
   "id": "642eef77",
   "metadata": {},
   "outputs": [],
   "source": [
    "df_590 = pd.read_csv('DataFramesInteressantes/gyroscope_590.csv')"
   ]
  },
  {
   "cell_type": "code",
   "execution_count": 27,
   "id": "3c6710a4",
   "metadata": {},
   "outputs": [
    {
     "data": {
      "text/html": [
       "<div>\n",
       "<style scoped>\n",
       "    .dataframe tbody tr th:only-of-type {\n",
       "        vertical-align: middle;\n",
       "    }\n",
       "\n",
       "    .dataframe tbody tr th {\n",
       "        vertical-align: top;\n",
       "    }\n",
       "\n",
       "    .dataframe thead th {\n",
       "        text-align: right;\n",
       "    }\n",
       "</style>\n",
       "<table border=\"1\" class=\"dataframe\">\n",
       "  <thead>\n",
       "    <tr style=\"text-align: right;\">\n",
       "      <th></th>\n",
       "      <th>user</th>\n",
       "      <th>quantity</th>\n",
       "    </tr>\n",
       "  </thead>\n",
       "  <tbody>\n",
       "    <tr>\n",
       "      <th>0</th>\n",
       "      <td>0dhpckv_1538916098382.json</td>\n",
       "      <td>598</td>\n",
       "    </tr>\n",
       "    <tr>\n",
       "      <th>1</th>\n",
       "      <td>0f4uezb_1541637607517.json</td>\n",
       "      <td>600</td>\n",
       "    </tr>\n",
       "    <tr>\n",
       "      <th>2</th>\n",
       "      <td>0hz8270_1537120509532.json</td>\n",
       "      <td>600</td>\n",
       "    </tr>\n",
       "    <tr>\n",
       "      <th>3</th>\n",
       "      <td>0hz8270_1537121171313.json</td>\n",
       "      <td>599</td>\n",
       "    </tr>\n",
       "    <tr>\n",
       "      <th>4</th>\n",
       "      <td>0hz8270_1537121294322.json</td>\n",
       "      <td>590</td>\n",
       "    </tr>\n",
       "    <tr>\n",
       "      <th>...</th>\n",
       "      <td>...</td>\n",
       "      <td>...</td>\n",
       "    </tr>\n",
       "    <tr>\n",
       "      <th>2427</th>\n",
       "      <td>zjod7wg_1543559738385.json</td>\n",
       "      <td>598</td>\n",
       "    </tr>\n",
       "    <tr>\n",
       "      <th>2428</th>\n",
       "      <td>zjod7wg_1543661032824.json</td>\n",
       "      <td>599</td>\n",
       "    </tr>\n",
       "    <tr>\n",
       "      <th>2429</th>\n",
       "      <td>zjod7wg_1544083021452.json</td>\n",
       "      <td>599</td>\n",
       "    </tr>\n",
       "    <tr>\n",
       "      <th>2430</th>\n",
       "      <td>zjod7wg_1544363972741.json</td>\n",
       "      <td>598</td>\n",
       "    </tr>\n",
       "    <tr>\n",
       "      <th>2431</th>\n",
       "      <td>zjod7wg_1544945458800.json</td>\n",
       "      <td>598</td>\n",
       "    </tr>\n",
       "  </tbody>\n",
       "</table>\n",
       "<p>2432 rows × 2 columns</p>\n",
       "</div>"
      ],
      "text/plain": [
       "                            user  quantity\n",
       "0     0dhpckv_1538916098382.json       598\n",
       "1     0f4uezb_1541637607517.json       600\n",
       "2     0hz8270_1537120509532.json       600\n",
       "3     0hz8270_1537121171313.json       599\n",
       "4     0hz8270_1537121294322.json       590\n",
       "...                          ...       ...\n",
       "2427  zjod7wg_1543559738385.json       598\n",
       "2428  zjod7wg_1543661032824.json       599\n",
       "2429  zjod7wg_1544083021452.json       599\n",
       "2430  zjod7wg_1544363972741.json       598\n",
       "2431  zjod7wg_1544945458800.json       598\n",
       "\n",
       "[2432 rows x 2 columns]"
      ]
     },
     "execution_count": 27,
     "metadata": {},
     "output_type": "execute_result"
    }
   ],
   "source": [
    "df_590"
   ]
  },
  {
   "cell_type": "markdown",
   "id": "6c36c877",
   "metadata": {},
   "source": [
    "# Limpando um pouco para pegar users não repetidos"
   ]
  },
  {
   "cell_type": "code",
   "execution_count": 28,
   "id": "4a9b9604",
   "metadata": {},
   "outputs": [],
   "source": [
    "df_590 = df_590.assign(user_name=6)\n",
    "for i in range(2432):\n",
    "    df_590.loc[i,'user_name'] =  df_590.loc[i,'user'].split('_')[0]"
   ]
  },
  {
   "cell_type": "code",
   "execution_count": 29,
   "id": "86113fe9",
   "metadata": {},
   "outputs": [],
   "source": [
    "df_590.drop_duplicates(subset='user_name', inplace=True)\n",
    "df_590.index = range(195)"
   ]
  },
  {
   "cell_type": "code",
   "execution_count": 30,
   "id": "63d690cc",
   "metadata": {
    "scrolled": true
   },
   "outputs": [
    {
     "data": {
      "text/html": [
       "<div>\n",
       "<style scoped>\n",
       "    .dataframe tbody tr th:only-of-type {\n",
       "        vertical-align: middle;\n",
       "    }\n",
       "\n",
       "    .dataframe tbody tr th {\n",
       "        vertical-align: top;\n",
       "    }\n",
       "\n",
       "    .dataframe thead th {\n",
       "        text-align: right;\n",
       "    }\n",
       "</style>\n",
       "<table border=\"1\" class=\"dataframe\">\n",
       "  <thead>\n",
       "    <tr style=\"text-align: right;\">\n",
       "      <th></th>\n",
       "      <th>user</th>\n",
       "      <th>quantity</th>\n",
       "      <th>user_name</th>\n",
       "    </tr>\n",
       "  </thead>\n",
       "  <tbody>\n",
       "    <tr>\n",
       "      <th>0</th>\n",
       "      <td>0dhpckv_1538916098382.json</td>\n",
       "      <td>598</td>\n",
       "      <td>0dhpckv</td>\n",
       "    </tr>\n",
       "    <tr>\n",
       "      <th>1</th>\n",
       "      <td>0f4uezb_1541637607517.json</td>\n",
       "      <td>600</td>\n",
       "      <td>0f4uezb</td>\n",
       "    </tr>\n",
       "    <tr>\n",
       "      <th>2</th>\n",
       "      <td>0hz8270_1537120509532.json</td>\n",
       "      <td>600</td>\n",
       "      <td>0hz8270</td>\n",
       "    </tr>\n",
       "    <tr>\n",
       "      <th>3</th>\n",
       "      <td>0n1ewpo_1543531135711.json</td>\n",
       "      <td>598</td>\n",
       "      <td>0n1ewpo</td>\n",
       "    </tr>\n",
       "    <tr>\n",
       "      <th>4</th>\n",
       "      <td>0sl48ao_1543861104586.json</td>\n",
       "      <td>597</td>\n",
       "      <td>0sl48ao</td>\n",
       "    </tr>\n",
       "    <tr>\n",
       "      <th>...</th>\n",
       "      <td>...</td>\n",
       "      <td>...</td>\n",
       "      <td>...</td>\n",
       "    </tr>\n",
       "    <tr>\n",
       "      <th>190</th>\n",
       "      <td>yztl8at_1543391645159.json</td>\n",
       "      <td>598</td>\n",
       "      <td>yztl8at</td>\n",
       "    </tr>\n",
       "    <tr>\n",
       "      <th>191</th>\n",
       "      <td>z3u2vz_1536614184068.json</td>\n",
       "      <td>601</td>\n",
       "      <td>z3u2vz</td>\n",
       "    </tr>\n",
       "    <tr>\n",
       "      <th>192</th>\n",
       "      <td>z45npl8_1543410085929.json</td>\n",
       "      <td>600</td>\n",
       "      <td>z45npl8</td>\n",
       "    </tr>\n",
       "    <tr>\n",
       "      <th>193</th>\n",
       "      <td>z8c5rtb_1541198871651.json</td>\n",
       "      <td>602</td>\n",
       "      <td>z8c5rtb</td>\n",
       "    </tr>\n",
       "    <tr>\n",
       "      <th>194</th>\n",
       "      <td>zjod7wg_1542975803139.json</td>\n",
       "      <td>599</td>\n",
       "      <td>zjod7wg</td>\n",
       "    </tr>\n",
       "  </tbody>\n",
       "</table>\n",
       "<p>195 rows × 3 columns</p>\n",
       "</div>"
      ],
      "text/plain": [
       "                           user  quantity user_name\n",
       "0    0dhpckv_1538916098382.json       598   0dhpckv\n",
       "1    0f4uezb_1541637607517.json       600   0f4uezb\n",
       "2    0hz8270_1537120509532.json       600   0hz8270\n",
       "3    0n1ewpo_1543531135711.json       598   0n1ewpo\n",
       "4    0sl48ao_1543861104586.json       597   0sl48ao\n",
       "..                          ...       ...       ...\n",
       "190  yztl8at_1543391645159.json       598   yztl8at\n",
       "191   z3u2vz_1536614184068.json       601    z3u2vz\n",
       "192  z45npl8_1543410085929.json       600   z45npl8\n",
       "193  z8c5rtb_1541198871651.json       602   z8c5rtb\n",
       "194  zjod7wg_1542975803139.json       599   zjod7wg\n",
       "\n",
       "[195 rows x 3 columns]"
      ]
     },
     "execution_count": 30,
     "metadata": {},
     "output_type": "execute_result"
    }
   ],
   "source": [
    "df_590"
   ]
  },
  {
   "cell_type": "code",
   "execution_count": 31,
   "id": "8b637f23",
   "metadata": {},
   "outputs": [
    {
     "data": {
      "image/png": "[encoded data removed]",
      "text/plain": [
       "<Figure size 1000x500 with 1 Axes>"
      ]
     },
     "metadata": {},
     "output_type": "display_data"
    }
   ],
   "source": [
    "plt.figure(figsize=(10,5))\n",
    "plt.plot(range(len(df_590)),df_590['quantity'],'bo',ms=2)\n",
    "plt.xlim(0, 195)\n",
    "plt.ylim(0, 5500)\n",
    "plt.xlabel(\"users\",fontsize = 12)\n",
    "plt.ylabel(\"quantity\",fontsize = 12)\n",
    "plt.xticks(fontsize = 12)\n",
    "plt.yticks(fontsize = 12)\n",
    "plt.title(\"Quantity of Gyroscopes data in analysis\")\n",
    "plt.show()"
   ]
  },
  {
   "cell_type": "markdown",
   "id": "69aceea7",
   "metadata": {},
   "source": [
    "## Testando gráficos para um usuário qualquer"
   ]
  },
  {
   "cell_type": "code",
   "execution_count": 32,
   "id": "8d8f5f71",
   "metadata": {},
   "outputs": [],
   "source": [
    "df10 = read_file('ylocu2a_1542982220706.json','gyroscope')"
   ]
  },
  {
   "cell_type": "code",
   "execution_count": 33,
   "id": "c3e1d98f",
   "metadata": {},
   "outputs": [
    {
     "data": {
      "text/plain": [
       "<AxesSubplot: >"
      ]
     },
     "execution_count": 33,
     "metadata": {},
     "output_type": "execute_result"
    },
    {
     "data": {
      "image/png": "[encoded data removed]",
      "text/plain": [
       "<Figure size 1000x500 with 1 Axes>"
      ]
     },
     "metadata": {},
     "output_type": "display_data"
    }
   ],
   "source": [
    "plt.figure(figsize=(10,5))\n",
    "sns.lineplot(data = df10)"
   ]
  },
  {
   "cell_type": "code",
   "execution_count": 34,
   "id": "13d963e3",
   "metadata": {},
   "outputs": [
    {
     "data": {
      "image/png": "[encoded data removed]",
      "text/plain": [
       "<Figure size 600x500 with 1 Axes>"
      ]
     },
     "metadata": {},
     "output_type": "display_data"
    }
   ],
   "source": [
    "plt.figure(figsize=(6,5))\n",
    "axes = plt.axes(projection='3d')\n",
    "axes.plot3D(df10['x'],df10['y'],df10['z'])\n",
    "plt.tight_layout()\n",
    "plt.show()"
   ]
  },
  {
   "cell_type": "markdown",
   "id": "8161ee66",
   "metadata": {},
   "source": [
    "## Partindo para a organização do dataframe com 590 pra cima de gyroscopes"
   ]
  },
  {
   "cell_type": "code",
   "execution_count": 35,
   "id": "1bae2397",
   "metadata": {},
   "outputs": [],
   "source": [
    "#para um arquivo\n",
    "def formatar_dado(arquivo_nome,metrica,janela, limite):\n",
    "    data_teste = read_file(arquivo_nome,metrica)\n",
    "    \n",
    "    my_dic = {'user': arquivo_nome.split('_')[0] ,'X':[],'Y':[],'Z':[]}\n",
    "    dfd = pd.DataFrame(my_dic)\n",
    "    \n",
    "    i = 0\n",
    "    j = int(janela)\n",
    "\n",
    "    while j < limite:\n",
    "        \n",
    "        user = arquivo_nome.split('_')[0]\n",
    "        \n",
    "        xt = data_teste.iloc[i:j,0].values\n",
    "        xt = np.array2string(xt, separator=',', max_line_width=0, formatter={'float_kind': lambda x: \"%.10f\" % x}).replace('[', '').replace(']', '').replace('\\n', '').replace(' ', '')\n",
    "\n",
    "        yt = data_teste.iloc[i:j,1].values\n",
    "        yt = np.array2string(yt, separator=',', max_line_width=0, formatter={'float_kind': lambda x: \"%.10f\" % x}).replace('[', '').replace(']', '').replace('\\n', '').replace(' ', '')\n",
    "\n",
    "        zt = data_teste.iloc[i:j,2].values\n",
    "        zt = np.array2string(zt, separator=',', max_line_width=0, formatter={'float_kind': lambda x: \"%.10f\" % x}).replace('[', '').replace(']', '').replace('\\n', '').replace(' ', '')    \n",
    "        \n",
    "        dfd.loc[len(dfd.index)] = [user,xt,yt,zt]\n",
    "        i=i+1\n",
    "        j=j+1\n",
    "    return dfd\n"
   ]
  },
  {
   "cell_type": "code",
   "execution_count": 36,
   "id": "2b8be2d7",
   "metadata": {},
   "outputs": [],
   "source": [
    "#generalizando \n",
    "def formatar_dados(df_us,metrica,janela , limite):\n",
    "    janela = int(janela)\n",
    "    df_us.reset_index(drop=True,inplace=True)\n",
    "    dfprincipal = formatar_dado(df_us[0],metrica,janela,limite)\n",
    "\n",
    "    for u in range(1,len(df_us),1):\n",
    "        df150 = formatar_dado(df_us[u],metrica,janela,limite)\n",
    "        dfprincipal = pd.concat([dfprincipal,df150])\n",
    "    dfprincipal.index = range(len(dfprincipal))\n",
    "    return dfprincipal"
   ]
  },
  {
   "cell_type": "code",
   "execution_count": 135,
   "id": "dd1629b5",
   "metadata": {},
   "outputs": [],
   "source": [
    "def janela_decisao(t,lq,ld,partition):\n",
    "    proporcao = 1/lq\n",
    "    ldx = math.floor((t)/(partition*lq))\n",
    "\n",
    "    if ldx > lq:\n",
    "        ldx = lq\n",
    "\n",
    "    return ldx\n",
    "def particiona(train_dataframe , partition):    \n",
    "    labels_quantity_proportion =  train_dataframe.label.value_counts()\n",
    "\n",
    "    t = len(train_dataframe)\n",
    "\n",
    "    ld = labels_quantity_proportion[0]\n",
    "\n",
    "    lq = round(t/ld)\n",
    "    \n",
    "    df_group = pd.DataFrame(pd.DataFrame(train_dataframe.groupby('label')))\n",
    "\n",
    "    lista_salvadora = []\n",
    "\n",
    "    prop = janela_decisao(t,lq,ld,partition)\n",
    "\n",
    "    janela_i = 0\n",
    "    janela_j = prop\n",
    "\n",
    "\n",
    "    for x in range(0 ,partition):\n",
    "        df_concat = pd.DataFrame()\n",
    "        \n",
    "        for i in range(0, lq):\n",
    "            \n",
    "            df2_concat = df_group.iloc[i,1].iloc[janela_i:janela_j]\n",
    "            df_concat = pd.concat([df_concat,df2_concat],axis = 0)\n",
    "        \n",
    "        lista_salvadora.append(df_concat)\n",
    "        \n",
    "        janela_i = janela_i + prop\n",
    "        janela_j = janela_j + prop\n",
    "        \n",
    "        \n",
    "    return lista_salvadora"
   ]
  },
  {
   "cell_type": "code",
   "execution_count": 38,
   "id": "c3d52978",
   "metadata": {},
   "outputs": [],
   "source": [
    "#teste_gyroscope = formatar_dados(df_590['user'],'gyroscope',150,590)"
   ]
  },
  {
   "cell_type": "code",
   "execution_count": 39,
   "id": "15359d7e",
   "metadata": {},
   "outputs": [],
   "source": [
    "#teste_gyroscope.rename(columns = {'user':'label'}, inplace=True)\n",
    "#teste_gyroscope.to_csv('DataFramesInteressantes/resultado_590.csv', index=False)"
   ]
  },
  {
   "cell_type": "code",
   "execution_count": 136,
   "id": "1d4e4fde",
   "metadata": {
    "scrolled": true
   },
   "outputs": [],
   "source": [
    "train_dataframe = pd.read_csv('DataFramesInteressantes/resultado_590.csv')"
   ]
  },
  {
   "cell_type": "code",
   "execution_count": 137,
   "id": "bbc8810a",
   "metadata": {},
   "outputs": [
    {
     "data": {
      "text/html": [
       "<div>\n",
       "<style scoped>\n",
       "    .dataframe tbody tr th:only-of-type {\n",
       "        vertical-align: middle;\n",
       "    }\n",
       "\n",
       "    .dataframe tbody tr th {\n",
       "        vertical-align: top;\n",
       "    }\n",
       "\n",
       "    .dataframe thead th {\n",
       "        text-align: right;\n",
       "    }\n",
       "</style>\n",
       "<table border=\"1\" class=\"dataframe\">\n",
       "  <thead>\n",
       "    <tr style=\"text-align: right;\">\n",
       "      <th></th>\n",
       "      <th>label</th>\n",
       "      <th>X</th>\n",
       "      <th>Y</th>\n",
       "      <th>Z</th>\n",
       "    </tr>\n",
       "  </thead>\n",
       "  <tbody>\n",
       "    <tr>\n",
       "      <th>0</th>\n",
       "      <td>0dhpckv</td>\n",
       "      <td>0.1339522091,0.1974345127,0.0579035137,0.10636...</td>\n",
       "      <td>0.1119696786,0.1665237345,0.0122220452,0.12100...</td>\n",
       "      <td>-0.0493760719,-0.0361872992,-0.0149299474,-0.0...</td>\n",
       "    </tr>\n",
       "    <tr>\n",
       "      <th>1</th>\n",
       "      <td>0dhpckv</td>\n",
       "      <td>0.1974345127,0.0579035137,0.1063655887,0.09692...</td>\n",
       "      <td>0.1665237345,0.0122220452,0.1210049852,0.03084...</td>\n",
       "      <td>-0.0361872992,-0.0149299474,-0.0102720786,-0.0...</td>\n",
       "    </tr>\n",
       "    <tr>\n",
       "      <th>2</th>\n",
       "      <td>0dhpckv</td>\n",
       "      <td>0.0579035137,0.1063655887,0.0969230847,0.13920...</td>\n",
       "      <td>0.0122220452,0.1210049852,0.0308492591,0.09234...</td>\n",
       "      <td>-0.0149299474,-0.0102720786,-0.0461983881,0.00...</td>\n",
       "    </tr>\n",
       "    <tr>\n",
       "      <th>3</th>\n",
       "      <td>0dhpckv</td>\n",
       "      <td>0.1063655887,0.0969230847,0.1392071586,0.06347...</td>\n",
       "      <td>0.1210049852,0.0308492591,0.0923429803,0.03047...</td>\n",
       "      <td>-0.0102720786,-0.0461983881,0.0072667014,-0.02...</td>\n",
       "    </tr>\n",
       "    <tr>\n",
       "      <th>4</th>\n",
       "      <td>0dhpckv</td>\n",
       "      <td>0.0969230847,0.1392071586,0.0634753793,-0.0885...</td>\n",
       "      <td>0.0308492591,0.0923429803,0.0304769492,-0.0886...</td>\n",
       "      <td>-0.0461983881,0.0072667014,-0.0296974419,-0.02...</td>\n",
       "    </tr>\n",
       "    <tr>\n",
       "      <th>...</th>\n",
       "      <td>...</td>\n",
       "      <td>...</td>\n",
       "      <td>...</td>\n",
       "      <td>...</td>\n",
       "    </tr>\n",
       "    <tr>\n",
       "      <th>85795</th>\n",
       "      <td>zjod7wg</td>\n",
       "      <td>-0.0085375618,0.0055758604,0.0072555161,-0.004...</td>\n",
       "      <td>-0.0085796398,-0.0298321979,-0.0405903034,-0.0...</td>\n",
       "      <td>0.0029776804,0.0032301481,-0.0203548065,-0.039...</td>\n",
       "    </tr>\n",
       "    <tr>\n",
       "      <th>85796</th>\n",
       "      <td>zjod7wg</td>\n",
       "      <td>0.0055758604,0.0072555161,-0.0043284357,-0.014...</td>\n",
       "      <td>-0.0298321979,-0.0405903034,-0.0172663386,-0.0...</td>\n",
       "      <td>0.0032301481,-0.0203548065,-0.0398331667,-0.00...</td>\n",
       "    </tr>\n",
       "    <tr>\n",
       "      <th>85797</th>\n",
       "      <td>zjod7wg</td>\n",
       "      <td>0.0072555161,-0.0043284357,-0.0145536427,-0.00...</td>\n",
       "      <td>-0.0405903034,-0.0172663386,-0.0257378540,-0.0...</td>\n",
       "      <td>-0.0203548065,-0.0398331667,-0.0079535306,-0.0...</td>\n",
       "    </tr>\n",
       "    <tr>\n",
       "      <th>85798</th>\n",
       "      <td>zjod7wg</td>\n",
       "      <td>-0.0043284357,-0.0145536427,-0.0040453417,0.00...</td>\n",
       "      <td>-0.0172663386,-0.0257378540,-0.0117874173,0.03...</td>\n",
       "      <td>-0.0398331667,-0.0079535306,-0.0055031561,-0.0...</td>\n",
       "    </tr>\n",
       "    <tr>\n",
       "      <th>85799</th>\n",
       "      <td>zjod7wg</td>\n",
       "      <td>-0.0145536427,-0.0040453417,0.0062895875,-0.02...</td>\n",
       "      <td>-0.0257378540,-0.0117874173,0.0360741149,0.034...</td>\n",
       "      <td>-0.0079535306,-0.0055031561,-0.0608055603,0.02...</td>\n",
       "    </tr>\n",
       "  </tbody>\n",
       "</table>\n",
       "<p>85800 rows × 4 columns</p>\n",
       "</div>"
      ],
      "text/plain": [
       "         label                                                  X  \\\n",
       "0      0dhpckv  0.1339522091,0.1974345127,0.0579035137,0.10636...   \n",
       "1      0dhpckv  0.1974345127,0.0579035137,0.1063655887,0.09692...   \n",
       "2      0dhpckv  0.0579035137,0.1063655887,0.0969230847,0.13920...   \n",
       "3      0dhpckv  0.1063655887,0.0969230847,0.1392071586,0.06347...   \n",
       "4      0dhpckv  0.0969230847,0.1392071586,0.0634753793,-0.0885...   \n",
       "...        ...                                                ...   \n",
       "85795  zjod7wg  -0.0085375618,0.0055758604,0.0072555161,-0.004...   \n",
       "85796  zjod7wg  0.0055758604,0.0072555161,-0.0043284357,-0.014...   \n",
       "85797  zjod7wg  0.0072555161,-0.0043284357,-0.0145536427,-0.00...   \n",
       "85798  zjod7wg  -0.0043284357,-0.0145536427,-0.0040453417,0.00...   \n",
       "85799  zjod7wg  -0.0145536427,-0.0040453417,0.0062895875,-0.02...   \n",
       "\n",
       "                                                       Y  \\\n",
       "0      0.1119696786,0.1665237345,0.0122220452,0.12100...   \n",
       "1      0.1665237345,0.0122220452,0.1210049852,0.03084...   \n",
       "2      0.0122220452,0.1210049852,0.0308492591,0.09234...   \n",
       "3      0.1210049852,0.0308492591,0.0923429803,0.03047...   \n",
       "4      0.0308492591,0.0923429803,0.0304769492,-0.0886...   \n",
       "...                                                  ...   \n",
       "85795  -0.0085796398,-0.0298321979,-0.0405903034,-0.0...   \n",
       "85796  -0.0298321979,-0.0405903034,-0.0172663386,-0.0...   \n",
       "85797  -0.0405903034,-0.0172663386,-0.0257378540,-0.0...   \n",
       "85798  -0.0172663386,-0.0257378540,-0.0117874173,0.03...   \n",
       "85799  -0.0257378540,-0.0117874173,0.0360741149,0.034...   \n",
       "\n",
       "                                                       Z  \n",
       "0      -0.0493760719,-0.0361872992,-0.0149299474,-0.0...  \n",
       "1      -0.0361872992,-0.0149299474,-0.0102720786,-0.0...  \n",
       "2      -0.0149299474,-0.0102720786,-0.0461983881,0.00...  \n",
       "3      -0.0102720786,-0.0461983881,0.0072667014,-0.02...  \n",
       "4      -0.0461983881,0.0072667014,-0.0296974419,-0.02...  \n",
       "...                                                  ...  \n",
       "85795  0.0029776804,0.0032301481,-0.0203548065,-0.039...  \n",
       "85796  0.0032301481,-0.0203548065,-0.0398331667,-0.00...  \n",
       "85797  -0.0203548065,-0.0398331667,-0.0079535306,-0.0...  \n",
       "85798  -0.0398331667,-0.0079535306,-0.0055031561,-0.0...  \n",
       "85799  -0.0079535306,-0.0055031561,-0.0608055603,0.02...  \n",
       "\n",
       "[85800 rows x 4 columns]"
      ]
     },
     "execution_count": 137,
     "metadata": {},
     "output_type": "execute_result"
    }
   ],
   "source": [
    "train_dataframe "
   ]
  },
  {
   "cell_type": "code",
   "execution_count": 138,
   "id": "d00bc59d",
   "metadata": {},
   "outputs": [],
   "source": [
    "df_teste = particiona(train_dataframe,2)[0]"
   ]
  },
  {
   "cell_type": "code",
   "execution_count": 139,
   "id": "c27ad79f",
   "metadata": {},
   "outputs": [
    {
     "data": {
      "text/html": [
       "<div>\n",
       "<style scoped>\n",
       "    .dataframe tbody tr th:only-of-type {\n",
       "        vertical-align: middle;\n",
       "    }\n",
       "\n",
       "    .dataframe tbody tr th {\n",
       "        vertical-align: top;\n",
       "    }\n",
       "\n",
       "    .dataframe thead th {\n",
       "        text-align: right;\n",
       "    }\n",
       "</style>\n",
       "<table border=\"1\" class=\"dataframe\">\n",
       "  <thead>\n",
       "    <tr style=\"text-align: right;\">\n",
       "      <th></th>\n",
       "      <th>label</th>\n",
       "      <th>X</th>\n",
       "      <th>Y</th>\n",
       "      <th>Z</th>\n",
       "    </tr>\n",
       "  </thead>\n",
       "  <tbody>\n",
       "    <tr>\n",
       "      <th>0</th>\n",
       "      <td>0dhpckv</td>\n",
       "      <td>0.1339522091,0.1974345127,0.0579035137,0.10636...</td>\n",
       "      <td>0.1119696786,0.1665237345,0.0122220452,0.12100...</td>\n",
       "      <td>-0.0493760719,-0.0361872992,-0.0149299474,-0.0...</td>\n",
       "    </tr>\n",
       "    <tr>\n",
       "      <th>1</th>\n",
       "      <td>0dhpckv</td>\n",
       "      <td>0.1974345127,0.0579035137,0.1063655887,0.09692...</td>\n",
       "      <td>0.1665237345,0.0122220452,0.1210049852,0.03084...</td>\n",
       "      <td>-0.0361872992,-0.0149299474,-0.0102720786,-0.0...</td>\n",
       "    </tr>\n",
       "    <tr>\n",
       "      <th>2</th>\n",
       "      <td>0dhpckv</td>\n",
       "      <td>0.0579035137,0.1063655887,0.0969230847,0.13920...</td>\n",
       "      <td>0.0122220452,0.1210049852,0.0308492591,0.09234...</td>\n",
       "      <td>-0.0149299474,-0.0102720786,-0.0461983881,0.00...</td>\n",
       "    </tr>\n",
       "    <tr>\n",
       "      <th>3</th>\n",
       "      <td>0dhpckv</td>\n",
       "      <td>0.1063655887,0.0969230847,0.1392071586,0.06347...</td>\n",
       "      <td>0.1210049852,0.0308492591,0.0923429803,0.03047...</td>\n",
       "      <td>-0.0102720786,-0.0461983881,0.0072667014,-0.02...</td>\n",
       "    </tr>\n",
       "    <tr>\n",
       "      <th>4</th>\n",
       "      <td>0dhpckv</td>\n",
       "      <td>0.0969230847,0.1392071586,0.0634753793,-0.0885...</td>\n",
       "      <td>0.0308492591,0.0923429803,0.0304769492,-0.0886...</td>\n",
       "      <td>-0.0461983881,0.0072667014,-0.0296974419,-0.02...</td>\n",
       "    </tr>\n",
       "    <tr>\n",
       "      <th>...</th>\n",
       "      <td>...</td>\n",
       "      <td>...</td>\n",
       "      <td>...</td>\n",
       "      <td>...</td>\n",
       "    </tr>\n",
       "    <tr>\n",
       "      <th>85550</th>\n",
       "      <td>zjod7wg</td>\n",
       "      <td>0.0173108134,-0.0171390395,-0.0136425753,0.007...</td>\n",
       "      <td>-0.0448689380,-0.0107565076,-0.0075940038,-0.0...</td>\n",
       "      <td>-0.0383543134,0.0059793293,-0.0089314433,-0.01...</td>\n",
       "    </tr>\n",
       "    <tr>\n",
       "      <th>85551</th>\n",
       "      <td>zjod7wg</td>\n",
       "      <td>-0.0171390395,-0.0136425753,0.0070919980,0.007...</td>\n",
       "      <td>-0.0107565076,-0.0075940038,-0.0448204685,-0.0...</td>\n",
       "      <td>0.0059793293,-0.0089314433,-0.0107282781,-0.01...</td>\n",
       "    </tr>\n",
       "    <tr>\n",
       "      <th>85552</th>\n",
       "      <td>zjod7wg</td>\n",
       "      <td>-0.0136425753,0.0070919980,0.0072097097,-0.003...</td>\n",
       "      <td>-0.0075940038,-0.0448204685,-0.0405817813,-0.0...</td>\n",
       "      <td>-0.0089314433,-0.0107282781,-0.0182120271,-0.0...</td>\n",
       "    </tr>\n",
       "    <tr>\n",
       "      <th>85553</th>\n",
       "      <td>zjod7wg</td>\n",
       "      <td>0.0070919980,0.0072097097,-0.0038461372,0.0040...</td>\n",
       "      <td>-0.0448204685,-0.0405817813,-0.0363228541,-0.0...</td>\n",
       "      <td>-0.0107282781,-0.0182120271,-0.0034522557,-0.0...</td>\n",
       "    </tr>\n",
       "    <tr>\n",
       "      <th>85554</th>\n",
       "      <td>zjod7wg</td>\n",
       "      <td>0.0072097097,-0.0038461372,0.0040227048,-0.000...</td>\n",
       "      <td>-0.0405817813,-0.0363228541,-0.0587139136,-0.0...</td>\n",
       "      <td>-0.0182120271,-0.0034522557,-0.0108569088,-0.0...</td>\n",
       "    </tr>\n",
       "  </tbody>\n",
       "</table>\n",
       "<p>38025 rows × 4 columns</p>\n",
       "</div>"
      ],
      "text/plain": [
       "         label                                                  X  \\\n",
       "0      0dhpckv  0.1339522091,0.1974345127,0.0579035137,0.10636...   \n",
       "1      0dhpckv  0.1974345127,0.0579035137,0.1063655887,0.09692...   \n",
       "2      0dhpckv  0.0579035137,0.1063655887,0.0969230847,0.13920...   \n",
       "3      0dhpckv  0.1063655887,0.0969230847,0.1392071586,0.06347...   \n",
       "4      0dhpckv  0.0969230847,0.1392071586,0.0634753793,-0.0885...   \n",
       "...        ...                                                ...   \n",
       "85550  zjod7wg  0.0173108134,-0.0171390395,-0.0136425753,0.007...   \n",
       "85551  zjod7wg  -0.0171390395,-0.0136425753,0.0070919980,0.007...   \n",
       "85552  zjod7wg  -0.0136425753,0.0070919980,0.0072097097,-0.003...   \n",
       "85553  zjod7wg  0.0070919980,0.0072097097,-0.0038461372,0.0040...   \n",
       "85554  zjod7wg  0.0072097097,-0.0038461372,0.0040227048,-0.000...   \n",
       "\n",
       "                                                       Y  \\\n",
       "0      0.1119696786,0.1665237345,0.0122220452,0.12100...   \n",
       "1      0.1665237345,0.0122220452,0.1210049852,0.03084...   \n",
       "2      0.0122220452,0.1210049852,0.0308492591,0.09234...   \n",
       "3      0.1210049852,0.0308492591,0.0923429803,0.03047...   \n",
       "4      0.0308492591,0.0923429803,0.0304769492,-0.0886...   \n",
       "...                                                  ...   \n",
       "85550  -0.0448689380,-0.0107565076,-0.0075940038,-0.0...   \n",
       "85551  -0.0107565076,-0.0075940038,-0.0448204685,-0.0...   \n",
       "85552  -0.0075940038,-0.0448204685,-0.0405817813,-0.0...   \n",
       "85553  -0.0448204685,-0.0405817813,-0.0363228541,-0.0...   \n",
       "85554  -0.0405817813,-0.0363228541,-0.0587139136,-0.0...   \n",
       "\n",
       "                                                       Z  \n",
       "0      -0.0493760719,-0.0361872992,-0.0149299474,-0.0...  \n",
       "1      -0.0361872992,-0.0149299474,-0.0102720786,-0.0...  \n",
       "2      -0.0149299474,-0.0102720786,-0.0461983881,0.00...  \n",
       "3      -0.0102720786,-0.0461983881,0.0072667014,-0.02...  \n",
       "4      -0.0461983881,0.0072667014,-0.0296974419,-0.02...  \n",
       "...                                                  ...  \n",
       "85550  -0.0383543134,0.0059793293,-0.0089314433,-0.01...  \n",
       "85551  0.0059793293,-0.0089314433,-0.0107282781,-0.01...  \n",
       "85552  -0.0089314433,-0.0107282781,-0.0182120271,-0.0...  \n",
       "85553  -0.0107282781,-0.0182120271,-0.0034522557,-0.0...  \n",
       "85554  -0.0182120271,-0.0034522557,-0.0108569088,-0.0...  \n",
       "\n",
       "[38025 rows x 4 columns]"
      ]
     },
     "execution_count": 139,
     "metadata": {},
     "output_type": "execute_result"
    }
   ],
   "source": [
    "df_teste"
   ]
  },
  {
   "cell_type": "code",
   "execution_count": null,
   "id": "2af55bc3",
   "metadata": {},
   "outputs": [],
   "source": []
  }
 ],
 "metadata": {
  "kernelspec": {
   "display_name": "Python 3 (ipykernel)",
   "language": "python",
   "name": "python3"
  },
  "language_info": {
   "codemirror_mode": {
    "name": "ipython",
    "version": 3
   },
   "file_extension": ".py",
   "mimetype": "text/x-python",
   "name": "python",
   "nbconvert_exporter": "python",
   "pygments_lexer": "ipython3",
   "version": "3.9.13"
  },
  "vscode": {
   "interpreter": {
    "hash": "14c21247ecf4df363add99cc3ec2ee8586d79fd8eb61544fc6006c7881b09c13"
   }
  }
 },
 "nbformat": 4,
 "nbformat_minor": 5
}
